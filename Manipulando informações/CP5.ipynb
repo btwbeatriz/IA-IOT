{
  "cells": [
    {
      "cell_type": "markdown",
      "metadata": {
        "id": "RKdgRxscgeCw"
      },
      "source": [
        "# CP5 - Aprendizado de Máquina Supervisionado\n",
        "\n",
        "### Instruções:\n",
        "\n",
        "1) Neste Jupyter Notebook há 2 questões de Aprendizado de Máquina Supervisionado para as tarefas de Regressão e Classificação. Cada questão possui uma pontuação indicada em vermelho, somando 10 pontos ao final;\n",
        "\n",
        "2) O CP é em grupo de até **5 pessoas**;\n",
        "\n",
        "3) Preencham o nome de cada membro do grupo corretamente;\n",
        "\n",
        "4) Coloque seu código solução logo abaixo de cada questão que ele responde;\n",
        "\n",
        "5) Use células markdown para escrever respostas que forem pedidas ou que você achar pertinentes;\n",
        "\n",
        "6) Você pode e **deve** usar bibliotecas prontas. Ao importar uma biblioteca, comente na frente para o que ela serve;\n",
        "\n",
        "7) Apenas um aluno submeterá no Teams. Mude o nome do arquivo para **CP5-turma-NomeSobrenome.ipynb** onde **turma** deve ser trocado pela turma do grupo (H,A,F,G) e o NomeSobrenome trocado pelo nome e sobrenome do aluno que submeter o arquivo;\n",
        "\n",
        "8) A atividade tem previsão de **1h50 de duração**.\n",
        "\n",
        "\n",
        "### Atenção:\n",
        "Vocês podem usar trechos de códigos prontos, entretanto é pouco provável que dois grupos tenham códigos **totalmente iguais**, nas mesmas sequências com as mesmas respostas. Caso for constatada semelhança exagerada entre dois arquivos que indique **plágio**, a nota  <font color='red'> será zerada!</font>"
      ]
    },
    {
      "cell_type": "markdown",
      "metadata": {
        "id": "LUtZLKYbgeCy"
      },
      "source": [
        "------------------------------"
      ]
    },
    {
      "cell_type": "markdown",
      "metadata": {
        "id": "F8C3KwrHgeCy"
      },
      "source": [
        "## 1) Drone <font color='red'>(5 pontos)</font>\n",
        "\n",
        "No arquivo drone_data.csv, você recebeu dados consolidados de vários voos realizados pelo mesmo drone de entrega.\n",
        "\n",
        "- **flight:** número do voo;\n",
        "- **speed:** velocidade média durante o voo (m/s)\n",
        "- **payload:** peso da carga transportada (g)\n",
        "- **altitude:** altitude de cruzeiro predefinida (m)\n",
        "- **date:** data do voo\n",
        "- **local_time:** horário em que o voo ocorreu \n",
        "- **route** sigla da rota que o drone voou\n",
        "- **total_energy:** energia total consumida da bateria (J)\n",
        "- **mean_wind_speed:** velocidade média do vento (m/s)\n",
        "- **flight_duration:** tempo total de duração do voo (s)\n",
        "\n",
        "Estes são dados de um drone quadcoptero real utilizado para entrega de pacotes. O dataset foi disponibilizado online no KiltHub em 2020. Seguem os autores e link para o repositório original:\n",
        "\n",
        "Rodrigues, Thiago A.; Patrikar, Jay; Choudhry, Arnav; Feldgoise, Jacob; Arcot, Vaibhav; Gahlaut, Aradhana; et al. (2020): Data Collected with Package Delivery Quadcopter Drone. Carnegie Mellon University. Dataset. https://doi.org/10.1184/R1/12683453.v3\n"
      ]
    },
    {
      "cell_type": "markdown",
      "metadata": {
        "id": "C40w5uofgeCz"
      },
      "source": [
        "(a) Crie um modelo de Aprendizado de Máquina para prever a rota (**route**) que o drone tomou baseado nos atributos de voo. Você deve obter uma Acurácia de pelo menos 90%.  <font color='red'>(2.5 pontos)</font>"
      ]
    },
    {
      "cell_type": "code",
      "execution_count": 6,
      "metadata": {
        "id": "U-Oy6kucgeCz"
      },
      "outputs": [],
      "source": [
        "import pandas as pd\n",
        "import matplotlib.pyplot as plt  \n",
        "import seaborn as sns\n",
        "from sklearn.model_selection import train_test_split"
      ]
    },
    {
      "cell_type": "code",
      "execution_count": 4,
      "metadata": {
        "id": "3AvnSdJfhaqC"
      },
      "outputs": [],
      "source": [
        "dados = pd.read_csv('drone_data.csv', sep=',') "
      ]
    },
    {
      "cell_type": "code",
      "execution_count": 11,
      "metadata": {
        "id": "7aNT1F0KlU_j"
      },
      "outputs": [],
      "source": [
        "dadosD = dados.drop(columns = ['local_time', 'date'])"
      ]
    },
    {
      "cell_type": "code",
      "execution_count": 5,
      "metadata": {
        "colab": {
          "base_uri": "https://localhost:8080/",
          "height": 206
        },
        "id": "Dic_FDZ4hh3p",
        "outputId": "964e987a-dd59-4341-8635-40bcbc12324d"
      },
      "outputs": [
        {
          "data": {
            "text/html": [
              "\n",
              "  <div id=\"df-9ee850d1-52a8-4c1c-bdad-c66312d38eb4\">\n",
              "    <div class=\"colab-df-container\">\n",
              "      <div>\n",
              "<style scoped>\n",
              "    .dataframe tbody tr th:only-of-type {\n",
              "        vertical-align: middle;\n",
              "    }\n",
              "\n",
              "    .dataframe tbody tr th {\n",
              "        vertical-align: top;\n",
              "    }\n",
              "\n",
              "    .dataframe thead th {\n",
              "        text-align: right;\n",
              "    }\n",
              "</style>\n",
              "<table border=\"1\" class=\"dataframe\">\n",
              "  <thead>\n",
              "    <tr style=\"text-align: right;\">\n",
              "      <th></th>\n",
              "      <th>flight</th>\n",
              "      <th>speed</th>\n",
              "      <th>payload</th>\n",
              "      <th>altitude</th>\n",
              "      <th>date</th>\n",
              "      <th>local_time</th>\n",
              "      <th>route</th>\n",
              "      <th>total_energy</th>\n",
              "      <th>mean_wind_speed</th>\n",
              "      <th>flight_duration</th>\n",
              "    </tr>\n",
              "  </thead>\n",
              "  <tbody>\n",
              "    <tr>\n",
              "      <th>0</th>\n",
              "      <td>1</td>\n",
              "      <td>4.0</td>\n",
              "      <td>0.0</td>\n",
              "      <td>25</td>\n",
              "      <td>2019-04-07</td>\n",
              "      <td>10:13</td>\n",
              "      <td>non R1</td>\n",
              "      <td>78473</td>\n",
              "      <td>3.90</td>\n",
              "      <td>200.7</td>\n",
              "    </tr>\n",
              "    <tr>\n",
              "      <th>1</th>\n",
              "      <td>2</td>\n",
              "      <td>4.0</td>\n",
              "      <td>0.0</td>\n",
              "      <td>50</td>\n",
              "      <td>2019-04-07</td>\n",
              "      <td>10:23</td>\n",
              "      <td>non R1</td>\n",
              "      <td>91363</td>\n",
              "      <td>3.52</td>\n",
              "      <td>271.2</td>\n",
              "    </tr>\n",
              "    <tr>\n",
              "      <th>2</th>\n",
              "      <td>3</td>\n",
              "      <td>6.0</td>\n",
              "      <td>0.0</td>\n",
              "      <td>25</td>\n",
              "      <td>2019-04-07</td>\n",
              "      <td>10:33</td>\n",
              "      <td>non R1</td>\n",
              "      <td>61487</td>\n",
              "      <td>4.58</td>\n",
              "      <td>180.1</td>\n",
              "    </tr>\n",
              "    <tr>\n",
              "      <th>3</th>\n",
              "      <td>4</td>\n",
              "      <td>8.0</td>\n",
              "      <td>0.0</td>\n",
              "      <td>25</td>\n",
              "      <td>2019-04-07</td>\n",
              "      <td>10:48</td>\n",
              "      <td>non R1</td>\n",
              "      <td>52915</td>\n",
              "      <td>4.60</td>\n",
              "      <td>171.0</td>\n",
              "    </tr>\n",
              "    <tr>\n",
              "      <th>4</th>\n",
              "      <td>5</td>\n",
              "      <td>4.0</td>\n",
              "      <td>0.0</td>\n",
              "      <td>25</td>\n",
              "      <td>2019-04-07</td>\n",
              "      <td>11:05</td>\n",
              "      <td>non R1</td>\n",
              "      <td>68589</td>\n",
              "      <td>3.33</td>\n",
              "      <td>217.0</td>\n",
              "    </tr>\n",
              "  </tbody>\n",
              "</table>\n",
              "</div>\n",
              "      <button class=\"colab-df-convert\" onclick=\"convertToInteractive('df-9ee850d1-52a8-4c1c-bdad-c66312d38eb4')\"\n",
              "              title=\"Convert this dataframe to an interactive table.\"\n",
              "              style=\"display:none;\">\n",
              "        \n",
              "  <svg xmlns=\"http://www.w3.org/2000/svg\" height=\"24px\"viewBox=\"0 0 24 24\"\n",
              "       width=\"24px\">\n",
              "    <path d=\"M0 0h24v24H0V0z\" fill=\"none\"/>\n",
              "    <path d=\"M18.56 5.44l.94 2.06.94-2.06 2.06-.94-2.06-.94-.94-2.06-.94 2.06-2.06.94zm-11 1L8.5 8.5l.94-2.06 2.06-.94-2.06-.94L8.5 2.5l-.94 2.06-2.06.94zm10 10l.94 2.06.94-2.06 2.06-.94-2.06-.94-.94-2.06-.94 2.06-2.06.94z\"/><path d=\"M17.41 7.96l-1.37-1.37c-.4-.4-.92-.59-1.43-.59-.52 0-1.04.2-1.43.59L10.3 9.45l-7.72 7.72c-.78.78-.78 2.05 0 2.83L4 21.41c.39.39.9.59 1.41.59.51 0 1.02-.2 1.41-.59l7.78-7.78 2.81-2.81c.8-.78.8-2.07 0-2.86zM5.41 20L4 18.59l7.72-7.72 1.47 1.35L5.41 20z\"/>\n",
              "  </svg>\n",
              "      </button>\n",
              "      \n",
              "  <style>\n",
              "    .colab-df-container {\n",
              "      display:flex;\n",
              "      flex-wrap:wrap;\n",
              "      gap: 12px;\n",
              "    }\n",
              "\n",
              "    .colab-df-convert {\n",
              "      background-color: #E8F0FE;\n",
              "      border: none;\n",
              "      border-radius: 50%;\n",
              "      cursor: pointer;\n",
              "      display: none;\n",
              "      fill: #1967D2;\n",
              "      height: 32px;\n",
              "      padding: 0 0 0 0;\n",
              "      width: 32px;\n",
              "    }\n",
              "\n",
              "    .colab-df-convert:hover {\n",
              "      background-color: #E2EBFA;\n",
              "      box-shadow: 0px 1px 2px rgba(60, 64, 67, 0.3), 0px 1px 3px 1px rgba(60, 64, 67, 0.15);\n",
              "      fill: #174EA6;\n",
              "    }\n",
              "\n",
              "    [theme=dark] .colab-df-convert {\n",
              "      background-color: #3B4455;\n",
              "      fill: #D2E3FC;\n",
              "    }\n",
              "\n",
              "    [theme=dark] .colab-df-convert:hover {\n",
              "      background-color: #434B5C;\n",
              "      box-shadow: 0px 1px 3px 1px rgba(0, 0, 0, 0.15);\n",
              "      filter: drop-shadow(0px 1px 2px rgba(0, 0, 0, 0.3));\n",
              "      fill: #FFFFFF;\n",
              "    }\n",
              "  </style>\n",
              "\n",
              "      <script>\n",
              "        const buttonEl =\n",
              "          document.querySelector('#df-9ee850d1-52a8-4c1c-bdad-c66312d38eb4 button.colab-df-convert');\n",
              "        buttonEl.style.display =\n",
              "          google.colab.kernel.accessAllowed ? 'block' : 'none';\n",
              "\n",
              "        async function convertToInteractive(key) {\n",
              "          const element = document.querySelector('#df-9ee850d1-52a8-4c1c-bdad-c66312d38eb4');\n",
              "          const dataTable =\n",
              "            await google.colab.kernel.invokeFunction('convertToInteractive',\n",
              "                                                     [key], {});\n",
              "          if (!dataTable) return;\n",
              "\n",
              "          const docLinkHtml = 'Like what you see? Visit the ' +\n",
              "            '<a target=\"_blank\" href=https://colab.research.google.com/notebooks/data_table.ipynb>data table notebook</a>'\n",
              "            + ' to learn more about interactive tables.';\n",
              "          element.innerHTML = '';\n",
              "          dataTable['output_type'] = 'display_data';\n",
              "          await google.colab.output.renderOutput(dataTable, element);\n",
              "          const docLink = document.createElement('div');\n",
              "          docLink.innerHTML = docLinkHtml;\n",
              "          element.appendChild(docLink);\n",
              "        }\n",
              "      </script>\n",
              "    </div>\n",
              "  </div>\n",
              "  "
            ],
            "text/plain": [
              "   flight  speed  payload  altitude        date local_time   route  \\\n",
              "0       1    4.0      0.0        25  2019-04-07      10:13  non R1   \n",
              "1       2    4.0      0.0        50  2019-04-07      10:23  non R1   \n",
              "2       3    6.0      0.0        25  2019-04-07      10:33  non R1   \n",
              "3       4    8.0      0.0        25  2019-04-07      10:48  non R1   \n",
              "4       5    4.0      0.0        25  2019-04-07      11:05  non R1   \n",
              "\n",
              "   total_energy  mean_wind_speed  flight_duration  \n",
              "0         78473             3.90            200.7  \n",
              "1         91363             3.52            271.2  \n",
              "2         61487             4.58            180.1  \n",
              "3         52915             4.60            171.0  \n",
              "4         68589             3.33            217.0  "
            ]
          },
          "execution_count": 5,
          "metadata": {},
          "output_type": "execute_result"
        }
      ],
      "source": [
        "dados.head()"
      ]
    },
    {
      "cell_type": "code",
      "execution_count": 12,
      "metadata": {
        "id": "gildIBiqh_L0"
      },
      "outputs": [],
      "source": [
        "x = dadosD.drop(columns = 'route')\n",
        "y = dadosD['route']\n",
        "x_train, x_test, y_train, y_test = train_test_split(x, y, test_size = 0.2, random_state = 42)"
      ]
    },
    {
      "cell_type": "code",
      "execution_count": null,
      "metadata": {
        "id": "Jh3UUfYElKC0"
      },
      "outputs": [],
      "source": [
        "x_train.head(5)"
      ]
    },
    {
      "cell_type": "code",
      "execution_count": 14,
      "metadata": {
        "colab": {
          "base_uri": "https://localhost:8080/"
        },
        "id": "6nIpHKF-myTx",
        "outputId": "19063554-3ffc-4339-9d44-95696ea0be6d"
      },
      "outputs": [
        {
          "data": {
            "text/plain": [
              "86         R1\n",
              "202    non R1\n",
              "67         R1\n",
              "82         R1\n",
              "204        R1\n",
              "Name: route, dtype: object"
            ]
          },
          "execution_count": 14,
          "metadata": {},
          "output_type": "execute_result"
        }
      ],
      "source": [
        "y_train.head(5)"
      ]
    },
    {
      "cell_type": "code",
      "execution_count": 15,
      "metadata": {
        "id": "MI7tkgUlm-GG"
      },
      "outputs": [],
      "source": [
        "from sklearn.discriminant_analysis import LinearDiscriminantAnalysis"
      ]
    },
    {
      "cell_type": "code",
      "execution_count": 16,
      "metadata": {
        "colab": {
          "base_uri": "https://localhost:8080/"
        },
        "id": "e6zxjDYKm_Gv",
        "outputId": "c7eb01ed-7479-45de-e580-7da4cddec8bc"
      },
      "outputs": [
        {
          "data": {
            "text/plain": [
              "LinearDiscriminantAnalysis()"
            ]
          },
          "execution_count": 16,
          "metadata": {},
          "output_type": "execute_result"
        }
      ],
      "source": [
        "lda = LinearDiscriminantAnalysis()  # Criamos o objeto do classificador (não mudamos nenhum hiperpârametro)\n",
        "\n",
        "lda.fit(x_train,y_train) # Treinamos o classificador passando apenas o conjunto de dados de treinamento "
      ]
    },
    {
      "cell_type": "code",
      "execution_count": 17,
      "metadata": {
        "id": "2XGZ-A3YnQur"
      },
      "outputs": [],
      "source": [
        "y_predicoes = lda.predict(x_test) "
      ]
    },
    {
      "cell_type": "code",
      "execution_count": 18,
      "metadata": {
        "colab": {
          "base_uri": "https://localhost:8080/"
        },
        "id": "tFwuphovnSrS",
        "outputId": "bed463be-039b-42e7-c0a4-dc7ec5dbf60f"
      },
      "outputs": [
        {
          "data": {
            "text/plain": [
              "161        R1\n",
              "15         R1\n",
              "73         R1\n",
              "96         R1\n",
              "166        R1\n",
              "9          R1\n",
              "100        R1\n",
              "135        R1\n",
              "18         R1\n",
              "148    non R1\n",
              "171        R1\n",
              "30         R1\n",
              "155    non R1\n",
              "205        R1\n",
              "125        R1\n",
              "196        R1\n",
              "164        R1\n",
              "189        R1\n",
              "84         R1\n",
              "75         R1\n",
              "124        R1\n",
              "170        R1\n",
              "104        R1\n",
              "101        R1\n",
              "69         R1\n",
              "25         R1\n",
              "95         R1\n",
              "16         R1\n",
              "141        R1\n",
              "184        R1\n",
              "154    non R1\n",
              "68         R1\n",
              "66         R1\n",
              "120        R1\n",
              "147        R1\n",
              "98         R1\n",
              "138        R1\n",
              "167        R1\n",
              "45         R1\n",
              "113        R1\n",
              "65         R1\n",
              "177        R1\n",
              "Name: route, dtype: object"
            ]
          },
          "execution_count": 18,
          "metadata": {},
          "output_type": "execute_result"
        }
      ],
      "source": [
        "y_test"
      ]
    },
    {
      "cell_type": "code",
      "execution_count": 19,
      "metadata": {
        "colab": {
          "base_uri": "https://localhost:8080/"
        },
        "id": "7OCIAyhjnWJx",
        "outputId": "38b008ad-bafa-49e9-e493-e9a4d20ea99f"
      },
      "outputs": [
        {
          "data": {
            "text/plain": [
              "array(['R1', 'R1', 'R1', 'R1', 'R1', 'R1', 'R1', 'R1', 'R1', 'non R1',\n",
              "       'R1', 'R1', 'non R1', 'R1', 'R1', 'R1', 'R1', 'R1', 'R1', 'R1',\n",
              "       'R1', 'R1', 'R1', 'R1', 'R1', 'R1', 'R1', 'R1', 'R1', 'R1',\n",
              "       'non R1', 'R1', 'R1', 'R1', 'R1', 'R1', 'R1', 'R1', 'R1', 'R1',\n",
              "       'R1', 'R1'], dtype='<U6')"
            ]
          },
          "execution_count": 19,
          "metadata": {},
          "output_type": "execute_result"
        }
      ],
      "source": [
        "y_predicoes"
      ]
    },
    {
      "cell_type": "code",
      "execution_count": 20,
      "metadata": {
        "id": "Rnt-hs4YnX7p"
      },
      "outputs": [],
      "source": [
        "from sklearn.metrics import confusion_matrix, ConfusionMatrixDisplay, plot_confusion_matrix\n",
        "from sklearn.metrics import f1_score, accuracy_score, precision_score, recall_score, classification_report"
      ]
    },
    {
      "cell_type": "code",
      "execution_count": 21,
      "metadata": {
        "id": "qSQqfw1CnYv5"
      },
      "outputs": [],
      "source": [
        "matriz_confusao = confusion_matrix(y_true = y_test, #Gabarito\n",
        "                                   y_pred = y_predicoes, #Respostas do meu algoritmo\n",
        "                                   labels=['R1','non R1'])"
      ]
    },
    {
      "cell_type": "code",
      "execution_count": 22,
      "metadata": {
        "colab": {
          "base_uri": "https://localhost:8080/"
        },
        "id": "UxipR2_1neay",
        "outputId": "aee9ce58-ea6d-455f-f197-f1fb2c68688d"
      },
      "outputs": [
        {
          "data": {
            "text/plain": [
              "array([[39,  0],\n",
              "       [ 0,  3]])"
            ]
          },
          "execution_count": 22,
          "metadata": {},
          "output_type": "execute_result"
        }
      ],
      "source": [
        "matriz_confusao"
      ]
    },
    {
      "cell_type": "code",
      "execution_count": 23,
      "metadata": {
        "colab": {
          "base_uri": "https://localhost:8080/",
          "height": 314
        },
        "id": "hJ4vkHMknk8p",
        "outputId": "1eb42c0f-89b1-4ebe-cc3a-84512109b39d"
      },
      "outputs": [
        {
          "data": {
            "text/plain": [
              "<sklearn.metrics._plot.confusion_matrix.ConfusionMatrixDisplay at 0x7f7b79887190>"
            ]
          },
          "execution_count": 23,
          "metadata": {},
          "output_type": "execute_result"
        },
        {
          "data": {
            "text/plain": [
              "<Figure size 1080x360 with 0 Axes>"
            ]
          },
          "metadata": {},
          "output_type": "display_data"
        },
        {
          "data": {
            "image/png": "[encoded data removed]",
            "text/plain": [
              "<Figure size 432x288 with 2 Axes>"
            ]
          },
          "metadata": {
            "needs_background": "light"
          },
          "output_type": "display_data"
        }
      ],
      "source": [
        "figure = plt.figure(figsize=(15, 5))\n",
        "disp = ConfusionMatrixDisplay(confusion_matrix = matriz_confusao, display_labels=['R1','non R1'])\n",
        "disp.plot(values_format='d') "
      ]
    },
    {
      "cell_type": "code",
      "execution_count": 25,
      "metadata": {
        "colab": {
          "base_uri": "https://localhost:8080/"
        },
        "id": "KWftfFwnofwF",
        "outputId": "42f52bd8-0f88-4b17-fc4b-1185f8bc6365"
      },
      "outputs": [
        {
          "data": {
            "text/plain": [
              "1.0"
            ]
          },
          "execution_count": 25,
          "metadata": {},
          "output_type": "execute_result"
        }
      ],
      "source": [
        "accuracy_score(y_true = y_test, y_pred = y_predicoes,) "
      ]
    },
    {
      "cell_type": "markdown",
      "metadata": {
        "id": "zhNK_epQgeC0"
      },
      "source": [
        "(b) Crie um modelo de Aprendizado de Máquina para prever a energia consumida da bateria (**total_energy**) do drone durante o voo. Você deve obter um R² de pelo menos 0.8. <font color='red'>(2.5 pontos)</font>"
      ]
    },
    {
      "cell_type": "code",
      "execution_count": 40,
      "metadata": {
        "id": "cywYQfXFoS53"
      },
      "outputs": [],
      "source": [
        "from sklearn.metrics import r2_score\n",
        "from sklearn.linear_model import LinearRegression"
      ]
    },
    {
      "cell_type": "code",
      "execution_count": 41,
      "metadata": {
        "id": "JBtjugWOgeC0"
      },
      "outputs": [],
      "source": [
        "dadosF = dados.drop(columns = ['local_time', 'date','route'])\n",
        "x = dadosF.drop(columns = 'total_energy')\n",
        "y = dadosF['total_energy']\n",
        "x_train, x_test, y_train, y_test = train_test_split(x, y, test_size = 0.2, random_state = 42)"
      ]
    },
    {
      "cell_type": "code",
      "execution_count": 42,
      "metadata": {
        "colab": {
          "base_uri": "https://localhost:8080/"
        },
        "id": "RdsQt8gopGUD",
        "outputId": "079d3141-5d2d-4e16-8684-d712722954b2"
      },
      "outputs": [
        {
          "data": {
            "text/plain": [
              "LinearRegression()"
            ]
          },
          "execution_count": 42,
          "metadata": {},
          "output_type": "execute_result"
        }
      ],
      "source": [
        "lr = LinearRegression()\n",
        "lr.fit(x_train,y_train)"
      ]
    },
    {
      "cell_type": "code",
      "execution_count": 43,
      "metadata": {
        "id": "AhgiQepqouTt"
      },
      "outputs": [],
      "source": [
        "y_predicoes = lr.predict(x_test) "
      ]
    },
    {
      "cell_type": "markdown",
      "metadata": {
        "id": "zc5WU8vzqXeA"
      },
      "source": []
    },
    {
      "cell_type": "code",
      "execution_count": 37,
      "metadata": {
        "colab": {
          "base_uri": "https://localhost:8080/"
        },
        "id": "utOuSo2DqoZG",
        "outputId": "475cf19b-3706-4b62-bc6c-976a4271d64d"
      },
      "outputs": [
        {
          "name": "stdout",
          "output_type": "stream",
          "text": [
            "R2:  0.8719362004186705\n"
          ]
        }
      ],
      "source": [
        "R2 = r2_score(y_true = y_test,\n",
        "              y_pred = y_predicoes)\n",
        "print('R2: ', R2)"
      ]
    },
    {
      "cell_type": "markdown",
      "metadata": {
        "id": "QELKRaDZgeC0"
      },
      "source": [
        "--------------------------------------------\n",
        "## 2) Counter Strike <font color='red'>(5 pontos)</font>\n",
        "\n",
        "No arquivo cs_data.csv há dados de jogadores de CS.\n",
        "\n",
        "(a) Crie um modelo de Aprendizado de Máquina capaz de prever o **Score** do jogador com o menor número de colunas possível, mantendo um R² de teste maior do que 0.9. Quais foram as colunas selecionadas? Faz sentido?  <font color='red'>(1.5 pontos)</font>"
      ]
    },
    {
      "cell_type": "code",
      "execution_count": 54,
      "metadata": {
        "id": "e8d7v4QwgeC1"
      },
      "outputs": [],
      "source": [
        "# Carregando os dados\n",
        "data_cs = pd.read_csv('cs_data.csv', sep=',')"
      ]
    },
    {
      "cell_type": "code",
      "execution_count": 55,
      "metadata": {
        "id": "6UJspngvsKQJ"
      },
      "outputs": [],
      "source": [
        "# Separando os dados\n",
        "x = data_cs.drop(columns=['Player Name', 'Ping', 'Assists', 'MVP', 'Score'])\n",
        "y = data_cs['Score']\n",
        "\n",
        "x_train, x_test, y_train, y_test = train_test_split(x, y, test_size = 0.2, random_state = 42)"
      ]
    },
    {
      "cell_type": "code",
      "execution_count": 56,
      "metadata": {
        "id": "Nj5haqNSskm3"
      },
      "outputs": [],
      "source": [
        "from sklearn.linear_model import LinearRegression"
      ]
    },
    {
      "cell_type": "code",
      "execution_count": 57,
      "metadata": {
        "colab": {
          "base_uri": "https://localhost:8080/"
        },
        "id": "qduD_5loslW2",
        "outputId": "9857a97f-b913-45f9-d8c1-43c339bc1ca8"
      },
      "outputs": [
        {
          "data": {
            "text/plain": [
              "LinearRegression()"
            ]
          },
          "execution_count": 57,
          "metadata": {},
          "output_type": "execute_result"
        }
      ],
      "source": [
        "lr = LinearRegression()\n",
        "lr.fit(x_train,y_train)"
      ]
    },
    {
      "cell_type": "code",
      "execution_count": 58,
      "metadata": {
        "id": "JKQV0HzUs4w_"
      },
      "outputs": [],
      "source": [
        "y_predicoes = lr.predict(x_test)"
      ]
    },
    {
      "cell_type": "code",
      "execution_count": 59,
      "metadata": {
        "id": "KzeIydDgs7k9"
      },
      "outputs": [],
      "source": [
        "from sklearn.metrics import r2_score"
      ]
    },
    {
      "cell_type": "code",
      "execution_count": 60,
      "metadata": {
        "colab": {
          "base_uri": "https://localhost:8080/"
        },
        "id": "jMvK76o0s8BP",
        "outputId": "37b10492-6c50-497b-f211-33f87693cef6"
      },
      "outputs": [
        {
          "name": "stdout",
          "output_type": "stream",
          "text": [
            "R2:  0.9273966003689008\n"
          ]
        }
      ],
      "source": [
        "R2 = r2_score(y_true = y_test,      \n",
        "              y_pred = y_predicoes) \n",
        "print('R2: ', R2)  "
      ]
    },
    {
      "cell_type": "markdown",
      "metadata": {
        "id": "yGwT2rgkgeC1"
      },
      "source": [
        "(b) Diversos jogadores de CS dizem que morrem no jogo **apenas** por causa do **ping** (atraso devido a problemas de rede).\n",
        "\n",
        "Usando um modelo de Aprendizado de Máquina, diga se isso é verdade ou não. <font color='red'>(1.5 pontos)</font>"
      ]
    },
    {
      "cell_type": "code",
      "execution_count": 61,
      "metadata": {
        "id": "1WuVq-iZgeC1"
      },
      "outputs": [],
      "source": [
        "df_cs = data_cs"
      ]
    },
    {
      "cell_type": "markdown",
      "metadata": {
        "id": "77cbnYbcgeC1"
      },
      "source": [
        "Agrupamos os jogadores através da classe de ping deles, conforme a função abaixo."
      ]
    },
    {
      "cell_type": "code",
      "execution_count": 62,
      "metadata": {
        "id": "QVVQDKeJgeC1"
      },
      "outputs": [],
      "source": [
        "def mapear_ping(x):\n",
        "    if x in range(0,30): return('otimo')\n",
        "    elif x in range(30,200): return('aceitavel')\n",
        "    else: return('ruim')"
      ]
    },
    {
      "cell_type": "code",
      "execution_count": 63,
      "metadata": {
        "id": "73Tp-c9Z3T8X"
      },
      "outputs": [],
      "source": [
        "df_cs['ping_class'] = df_cs['Ping'].apply(mapear_ping)"
      ]
    },
    {
      "cell_type": "code",
      "execution_count": 64,
      "metadata": {
        "colab": {
          "base_uri": "https://localhost:8080/",
          "height": 175
        },
        "id": "GFDqI0lUgeC2",
        "outputId": "d51860a4-ae6a-4fda-c64f-529c513de91f"
      },
      "outputs": [
        {
          "data": {
            "text/html": [
              "\n",
              "  <div id=\"df-0d8decd8-a75e-4cfd-9150-4f25bb252a58\">\n",
              "    <div class=\"colab-df-container\">\n",
              "      <div>\n",
              "<style scoped>\n",
              "    .dataframe tbody tr th:only-of-type {\n",
              "        vertical-align: middle;\n",
              "    }\n",
              "\n",
              "    .dataframe tbody tr th {\n",
              "        vertical-align: top;\n",
              "    }\n",
              "\n",
              "    .dataframe thead th {\n",
              "        text-align: right;\n",
              "    }\n",
              "</style>\n",
              "<table border=\"1\" class=\"dataframe\">\n",
              "  <thead>\n",
              "    <tr style=\"text-align: right;\">\n",
              "      <th></th>\n",
              "      <th>Ping</th>\n",
              "      <th>Kills</th>\n",
              "      <th>Assists</th>\n",
              "      <th>Deaths</th>\n",
              "      <th>MVP</th>\n",
              "      <th>HSP</th>\n",
              "      <th>Score</th>\n",
              "    </tr>\n",
              "    <tr>\n",
              "      <th>ping_class</th>\n",
              "      <th></th>\n",
              "      <th></th>\n",
              "      <th></th>\n",
              "      <th></th>\n",
              "      <th></th>\n",
              "      <th></th>\n",
              "      <th></th>\n",
              "    </tr>\n",
              "  </thead>\n",
              "  <tbody>\n",
              "    <tr>\n",
              "      <th>aceitavel</th>\n",
              "      <td>59.636084</td>\n",
              "      <td>18.262637</td>\n",
              "      <td>3.795452</td>\n",
              "      <td>18.292436</td>\n",
              "      <td>2.381530</td>\n",
              "      <td>33.776149</td>\n",
              "      <td>45.721921</td>\n",
              "    </tr>\n",
              "    <tr>\n",
              "      <th>otimo</th>\n",
              "      <td>14.659550</td>\n",
              "      <td>16.833252</td>\n",
              "      <td>3.595180</td>\n",
              "      <td>17.291768</td>\n",
              "      <td>2.251334</td>\n",
              "      <td>34.354359</td>\n",
              "      <td>42.171114</td>\n",
              "    </tr>\n",
              "    <tr>\n",
              "      <th>ruim</th>\n",
              "      <td>317.699387</td>\n",
              "      <td>15.294479</td>\n",
              "      <td>3.441718</td>\n",
              "      <td>19.294479</td>\n",
              "      <td>1.889571</td>\n",
              "      <td>36.269939</td>\n",
              "      <td>39.521472</td>\n",
              "    </tr>\n",
              "  </tbody>\n",
              "</table>\n",
              "</div>\n",
              "      <button class=\"colab-df-convert\" onclick=\"convertToInteractive('df-0d8decd8-a75e-4cfd-9150-4f25bb252a58')\"\n",
              "              title=\"Convert this dataframe to an interactive table.\"\n",
              "              style=\"display:none;\">\n",
              "        \n",
              "  <svg xmlns=\"http://www.w3.org/2000/svg\" height=\"24px\"viewBox=\"0 0 24 24\"\n",
              "       width=\"24px\">\n",
              "    <path d=\"M0 0h24v24H0V0z\" fill=\"none\"/>\n",
              "    <path d=\"M18.56 5.44l.94 2.06.94-2.06 2.06-.94-2.06-.94-.94-2.06-.94 2.06-2.06.94zm-11 1L8.5 8.5l.94-2.06 2.06-.94-2.06-.94L8.5 2.5l-.94 2.06-2.06.94zm10 10l.94 2.06.94-2.06 2.06-.94-2.06-.94-.94-2.06-.94 2.06-2.06.94z\"/><path d=\"M17.41 7.96l-1.37-1.37c-.4-.4-.92-.59-1.43-.59-.52 0-1.04.2-1.43.59L10.3 9.45l-7.72 7.72c-.78.78-.78 2.05 0 2.83L4 21.41c.39.39.9.59 1.41.59.51 0 1.02-.2 1.41-.59l7.78-7.78 2.81-2.81c.8-.78.8-2.07 0-2.86zM5.41 20L4 18.59l7.72-7.72 1.47 1.35L5.41 20z\"/>\n",
              "  </svg>\n",
              "      </button>\n",
              "      \n",
              "  <style>\n",
              "    .colab-df-container {\n",
              "      display:flex;\n",
              "      flex-wrap:wrap;\n",
              "      gap: 12px;\n",
              "    }\n",
              "\n",
              "    .colab-df-convert {\n",
              "      background-color: #E8F0FE;\n",
              "      border: none;\n",
              "      border-radius: 50%;\n",
              "      cursor: pointer;\n",
              "      display: none;\n",
              "      fill: #1967D2;\n",
              "      height: 32px;\n",
              "      padding: 0 0 0 0;\n",
              "      width: 32px;\n",
              "    }\n",
              "\n",
              "    .colab-df-convert:hover {\n",
              "      background-color: #E2EBFA;\n",
              "      box-shadow: 0px 1px 2px rgba(60, 64, 67, 0.3), 0px 1px 3px 1px rgba(60, 64, 67, 0.15);\n",
              "      fill: #174EA6;\n",
              "    }\n",
              "\n",
              "    [theme=dark] .colab-df-convert {\n",
              "      background-color: #3B4455;\n",
              "      fill: #D2E3FC;\n",
              "    }\n",
              "\n",
              "    [theme=dark] .colab-df-convert:hover {\n",
              "      background-color: #434B5C;\n",
              "      box-shadow: 0px 1px 3px 1px rgba(0, 0, 0, 0.15);\n",
              "      filter: drop-shadow(0px 1px 2px rgba(0, 0, 0, 0.3));\n",
              "      fill: #FFFFFF;\n",
              "    }\n",
              "  </style>\n",
              "\n",
              "      <script>\n",
              "        const buttonEl =\n",
              "          document.querySelector('#df-0d8decd8-a75e-4cfd-9150-4f25bb252a58 button.colab-df-convert');\n",
              "        buttonEl.style.display =\n",
              "          google.colab.kernel.accessAllowed ? 'block' : 'none';\n",
              "\n",
              "        async function convertToInteractive(key) {\n",
              "          const element = document.querySelector('#df-0d8decd8-a75e-4cfd-9150-4f25bb252a58');\n",
              "          const dataTable =\n",
              "            await google.colab.kernel.invokeFunction('convertToInteractive',\n",
              "                                                     [key], {});\n",
              "          if (!dataTable) return;\n",
              "\n",
              "          const docLinkHtml = 'Like what you see? Visit the ' +\n",
              "            '<a target=\"_blank\" href=https://colab.research.google.com/notebooks/data_table.ipynb>data table notebook</a>'\n",
              "            + ' to learn more about interactive tables.';\n",
              "          element.innerHTML = '';\n",
              "          dataTable['output_type'] = 'display_data';\n",
              "          await google.colab.output.renderOutput(dataTable, element);\n",
              "          const docLink = document.createElement('div');\n",
              "          docLink.innerHTML = docLinkHtml;\n",
              "          element.appendChild(docLink);\n",
              "        }\n",
              "      </script>\n",
              "    </div>\n",
              "  </div>\n",
              "  "
            ],
            "text/plain": [
              "                  Ping      Kills   Assists     Deaths       MVP        HSP  \\\n",
              "ping_class                                                                    \n",
              "aceitavel    59.636084  18.262637  3.795452  18.292436  2.381530  33.776149   \n",
              "otimo        14.659550  16.833252  3.595180  17.291768  2.251334  34.354359   \n",
              "ruim        317.699387  15.294479  3.441718  19.294479  1.889571  36.269939   \n",
              "\n",
              "                Score  \n",
              "ping_class             \n",
              "aceitavel   45.721921  \n",
              "otimo       42.171114  \n",
              "ruim        39.521472  "
            ]
          },
          "execution_count": 64,
          "metadata": {},
          "output_type": "execute_result"
        }
      ],
      "source": [
        "df_cs.groupby('ping_class').mean()"
      ]
    },
    {
      "cell_type": "code",
      "execution_count": 65,
      "metadata": {
        "id": "lL158QNvgeC1"
      },
      "outputs": [],
      "source": [
        "x = df_cs.drop(columns=['Ping', 'Player Name', 'ping_class'])\n",
        "y = df_cs['ping_class']\n",
        "\n",
        "x_train, x_test, y_train, y_test = train_test_split(x, y, test_size = 0.2, random_state = 42)"
      ]
    },
    {
      "cell_type": "code",
      "execution_count": 66,
      "metadata": {
        "id": "nZVSEZBO3YCP"
      },
      "outputs": [],
      "source": [
        "from sklearn.discriminant_analysis import LinearDiscriminantAnalysis"
      ]
    },
    {
      "cell_type": "code",
      "execution_count": 67,
      "metadata": {
        "id": "mQXCLNIK3s6K"
      },
      "outputs": [],
      "source": [
        "lda = LinearDiscriminantAnalysis()"
      ]
    },
    {
      "cell_type": "code",
      "execution_count": 68,
      "metadata": {
        "colab": {
          "base_uri": "https://localhost:8080/"
        },
        "id": "EWP-fbui3uLA",
        "outputId": "e6e8ba08-f266-4ce5-b2e6-3a070c74676e"
      },
      "outputs": [
        {
          "data": {
            "text/plain": [
              "LinearDiscriminantAnalysis()"
            ]
          },
          "execution_count": 68,
          "metadata": {},
          "output_type": "execute_result"
        }
      ],
      "source": [
        "lda.fit(x_train, y_train)"
      ]
    },
    {
      "cell_type": "code",
      "execution_count": 69,
      "metadata": {
        "id": "BTIK9os43w6V"
      },
      "outputs": [],
      "source": [
        "y_predicoes = lda.predict(x_test) "
      ]
    },
    {
      "cell_type": "code",
      "execution_count": 70,
      "metadata": {
        "id": "oPh8wQHZ30FD"
      },
      "outputs": [],
      "source": [
        "from sklearn.metrics import confusion_matrix, ConfusionMatrixDisplay, plot_confusion_matrix"
      ]
    },
    {
      "cell_type": "code",
      "execution_count": 71,
      "metadata": {
        "colab": {
          "base_uri": "https://localhost:8080/",
          "height": 314
        },
        "id": "jvDd__n333iD",
        "outputId": "32a0abce-7152-4e12-d989-e9100867bac4"
      },
      "outputs": [
        {
          "data": {
            "text/plain": [
              "<sklearn.metrics._plot.confusion_matrix.ConfusionMatrixDisplay at 0x7f7b79210750>"
            ]
          },
          "execution_count": 71,
          "metadata": {},
          "output_type": "execute_result"
        },
        {
          "data": {
            "text/plain": [
              "<Figure size 1080x360 with 0 Axes>"
            ]
          },
          "metadata": {},
          "output_type": "display_data"
        },
        {
          "data": {
            "image/png": "[encoded data removed]",
            "text/plain": [
              "<Figure size 432x288 with 2 Axes>"
            ]
          },
          "metadata": {
            "needs_background": "light"
          },
          "output_type": "display_data"
        }
      ],
      "source": [
        "matriz_confusao = confusion_matrix(y_true = y_test,\n",
        "                                   y_pred = y_predicoes,\n",
        "                                   labels=['otimo', 'aceitavel', 'ruim'])\n",
        "\n",
        "figure = plt.figure(figsize=(15, 5))\n",
        "disp = ConfusionMatrixDisplay(confusion_matrix = matriz_confusao, display_labels=['otimo', 'aceitavel', 'ruim'])\n",
        "disp.plot(values_format='d') "
      ]
    },
    {
      "cell_type": "code",
      "execution_count": 72,
      "metadata": {
        "id": "Qv8HBOs336SD"
      },
      "outputs": [],
      "source": [
        "# Começo da segunda análise\n",
        "df_cs = data_cs"
      ]
    },
    {
      "cell_type": "code",
      "execution_count": 73,
      "metadata": {
        "id": "1LaU3myd4I4u"
      },
      "outputs": [],
      "source": [
        "def mapear_ping(x):\n",
        "    if x in range(0,30): return('otimo')\n",
        "    elif x in range(30,200): return('aceitavel')\n",
        "    else: return('ruim')"
      ]
    },
    {
      "cell_type": "code",
      "execution_count": 74,
      "metadata": {
        "id": "awh-MfOA4JwS"
      },
      "outputs": [],
      "source": [
        "# Lembre-se de arrumar o nome do dataframe para ser igual ao nome do seu dataframe\n",
        "df_cs['ping_class'] = df_cs['Ping'].apply(mapear_ping) "
      ]
    },
    {
      "cell_type": "code",
      "execution_count": 75,
      "metadata": {
        "colab": {
          "base_uri": "https://localhost:8080/"
        },
        "id": "gS6-jSeA4Qlx",
        "outputId": "6a8bfb01-707d-4623-ee8c-01030445bdeb"
      },
      "outputs": [
        {
          "name": "stderr",
          "output_type": "stream",
          "text": [
            "/usr/local/lib/python3.7/dist-packages/ipykernel_launcher.py:5: SettingWithCopyWarning: \n",
            "A value is trying to be set on a copy of a slice from a DataFrame\n",
            "\n",
            "See the caveats in the documentation: https://pandas.pydata.org/pandas-docs/stable/user_guide/indexing.html#returning-a-view-versus-a-copy\n",
            "  \"\"\"\n",
            "/usr/local/lib/python3.7/dist-packages/ipykernel_launcher.py:3: SettingWithCopyWarning: \n",
            "A value is trying to be set on a copy of a slice from a DataFrame\n",
            "\n",
            "See the caveats in the documentation: https://pandas.pydata.org/pandas-docs/stable/user_guide/indexing.html#returning-a-view-versus-a-copy\n",
            "  This is separate from the ipykernel package so we can avoid doing imports until\n",
            "/usr/local/lib/python3.7/dist-packages/ipykernel_launcher.py:7: SettingWithCopyWarning: \n",
            "A value is trying to be set on a copy of a slice from a DataFrame\n",
            "\n",
            "See the caveats in the documentation: https://pandas.pydata.org/pandas-docs/stable/user_guide/indexing.html#returning-a-view-versus-a-copy\n",
            "  import sys\n"
          ]
        }
      ],
      "source": [
        "for i in range(len(df_cs)):\n",
        "  if df_cs['ping_class'][i] == 'otimo':\n",
        "    df_cs['ping_class'][i] = 0\n",
        "  elif df_cs['ping_class'][i] == 'aceitavel':\n",
        "    df_cs['ping_class'][i] = 1\n",
        "  elif df_cs['ping_class'][i] == 'ruim':\n",
        "    df_cs['ping_class'][i] = 2"
      ]
    },
    {
      "cell_type": "code",
      "execution_count": 76,
      "metadata": {
        "colab": {
          "base_uri": "https://localhost:8080/",
          "height": 175
        },
        "id": "WJ8rpnH54R_I",
        "outputId": "9c111727-682a-4c69-e82e-a5d9ef610f8f"
      },
      "outputs": [
        {
          "data": {
            "text/html": [
              "\n",
              "  <div id=\"df-5c3686b0-30a7-4aa3-976b-d91ba8f6d4c6\">\n",
              "    <div class=\"colab-df-container\">\n",
              "      <div>\n",
              "<style scoped>\n",
              "    .dataframe tbody tr th:only-of-type {\n",
              "        vertical-align: middle;\n",
              "    }\n",
              "\n",
              "    .dataframe tbody tr th {\n",
              "        vertical-align: top;\n",
              "    }\n",
              "\n",
              "    .dataframe thead th {\n",
              "        text-align: right;\n",
              "    }\n",
              "</style>\n",
              "<table border=\"1\" class=\"dataframe\">\n",
              "  <thead>\n",
              "    <tr style=\"text-align: right;\">\n",
              "      <th></th>\n",
              "      <th>Ping</th>\n",
              "      <th>Kills</th>\n",
              "      <th>Assists</th>\n",
              "      <th>Deaths</th>\n",
              "      <th>MVP</th>\n",
              "      <th>HSP</th>\n",
              "      <th>Score</th>\n",
              "    </tr>\n",
              "    <tr>\n",
              "      <th>ping_class</th>\n",
              "      <th></th>\n",
              "      <th></th>\n",
              "      <th></th>\n",
              "      <th></th>\n",
              "      <th></th>\n",
              "      <th></th>\n",
              "      <th></th>\n",
              "    </tr>\n",
              "  </thead>\n",
              "  <tbody>\n",
              "    <tr>\n",
              "      <th>0</th>\n",
              "      <td>14.659550</td>\n",
              "      <td>16.833252</td>\n",
              "      <td>3.595180</td>\n",
              "      <td>17.291768</td>\n",
              "      <td>2.251334</td>\n",
              "      <td>34.354359</td>\n",
              "      <td>42.171114</td>\n",
              "    </tr>\n",
              "    <tr>\n",
              "      <th>1</th>\n",
              "      <td>59.636084</td>\n",
              "      <td>18.262637</td>\n",
              "      <td>3.795452</td>\n",
              "      <td>18.292436</td>\n",
              "      <td>2.381530</td>\n",
              "      <td>33.776149</td>\n",
              "      <td>45.721921</td>\n",
              "    </tr>\n",
              "    <tr>\n",
              "      <th>2</th>\n",
              "      <td>317.699387</td>\n",
              "      <td>15.294479</td>\n",
              "      <td>3.441718</td>\n",
              "      <td>19.294479</td>\n",
              "      <td>1.889571</td>\n",
              "      <td>36.269939</td>\n",
              "      <td>39.521472</td>\n",
              "    </tr>\n",
              "  </tbody>\n",
              "</table>\n",
              "</div>\n",
              "      <button class=\"colab-df-convert\" onclick=\"convertToInteractive('df-5c3686b0-30a7-4aa3-976b-d91ba8f6d4c6')\"\n",
              "              title=\"Convert this dataframe to an interactive table.\"\n",
              "              style=\"display:none;\">\n",
              "        \n",
              "  <svg xmlns=\"http://www.w3.org/2000/svg\" height=\"24px\"viewBox=\"0 0 24 24\"\n",
              "       width=\"24px\">\n",
              "    <path d=\"M0 0h24v24H0V0z\" fill=\"none\"/>\n",
              "    <path d=\"M18.56 5.44l.94 2.06.94-2.06 2.06-.94-2.06-.94-.94-2.06-.94 2.06-2.06.94zm-11 1L8.5 8.5l.94-2.06 2.06-.94-2.06-.94L8.5 2.5l-.94 2.06-2.06.94zm10 10l.94 2.06.94-2.06 2.06-.94-2.06-.94-.94-2.06-.94 2.06-2.06.94z\"/><path d=\"M17.41 7.96l-1.37-1.37c-.4-.4-.92-.59-1.43-.59-.52 0-1.04.2-1.43.59L10.3 9.45l-7.72 7.72c-.78.78-.78 2.05 0 2.83L4 21.41c.39.39.9.59 1.41.59.51 0 1.02-.2 1.41-.59l7.78-7.78 2.81-2.81c.8-.78.8-2.07 0-2.86zM5.41 20L4 18.59l7.72-7.72 1.47 1.35L5.41 20z\"/>\n",
              "  </svg>\n",
              "      </button>\n",
              "      \n",
              "  <style>\n",
              "    .colab-df-container {\n",
              "      display:flex;\n",
              "      flex-wrap:wrap;\n",
              "      gap: 12px;\n",
              "    }\n",
              "\n",
              "    .colab-df-convert {\n",
              "      background-color: #E8F0FE;\n",
              "      border: none;\n",
              "      border-radius: 50%;\n",
              "      cursor: pointer;\n",
              "      display: none;\n",
              "      fill: #1967D2;\n",
              "      height: 32px;\n",
              "      padding: 0 0 0 0;\n",
              "      width: 32px;\n",
              "    }\n",
              "\n",
              "    .colab-df-convert:hover {\n",
              "      background-color: #E2EBFA;\n",
              "      box-shadow: 0px 1px 2px rgba(60, 64, 67, 0.3), 0px 1px 3px 1px rgba(60, 64, 67, 0.15);\n",
              "      fill: #174EA6;\n",
              "    }\n",
              "\n",
              "    [theme=dark] .colab-df-convert {\n",
              "      background-color: #3B4455;\n",
              "      fill: #D2E3FC;\n",
              "    }\n",
              "\n",
              "    [theme=dark] .colab-df-convert:hover {\n",
              "      background-color: #434B5C;\n",
              "      box-shadow: 0px 1px 3px 1px rgba(0, 0, 0, 0.15);\n",
              "      filter: drop-shadow(0px 1px 2px rgba(0, 0, 0, 0.3));\n",
              "      fill: #FFFFFF;\n",
              "    }\n",
              "  </style>\n",
              "\n",
              "      <script>\n",
              "        const buttonEl =\n",
              "          document.querySelector('#df-5c3686b0-30a7-4aa3-976b-d91ba8f6d4c6 button.colab-df-convert');\n",
              "        buttonEl.style.display =\n",
              "          google.colab.kernel.accessAllowed ? 'block' : 'none';\n",
              "\n",
              "        async function convertToInteractive(key) {\n",
              "          const element = document.querySelector('#df-5c3686b0-30a7-4aa3-976b-d91ba8f6d4c6');\n",
              "          const dataTable =\n",
              "            await google.colab.kernel.invokeFunction('convertToInteractive',\n",
              "                                                     [key], {});\n",
              "          if (!dataTable) return;\n",
              "\n",
              "          const docLinkHtml = 'Like what you see? Visit the ' +\n",
              "            '<a target=\"_blank\" href=https://colab.research.google.com/notebooks/data_table.ipynb>data table notebook</a>'\n",
              "            + ' to learn more about interactive tables.';\n",
              "          element.innerHTML = '';\n",
              "          dataTable['output_type'] = 'display_data';\n",
              "          await google.colab.output.renderOutput(dataTable, element);\n",
              "          const docLink = document.createElement('div');\n",
              "          docLink.innerHTML = docLinkHtml;\n",
              "          element.appendChild(docLink);\n",
              "        }\n",
              "      </script>\n",
              "    </div>\n",
              "  </div>\n",
              "  "
            ],
            "text/plain": [
              "                  Ping      Kills   Assists     Deaths       MVP        HSP  \\\n",
              "ping_class                                                                    \n",
              "0            14.659550  16.833252  3.595180  17.291768  2.251334  34.354359   \n",
              "1            59.636084  18.262637  3.795452  18.292436  2.381530  33.776149   \n",
              "2           317.699387  15.294479  3.441718  19.294479  1.889571  36.269939   \n",
              "\n",
              "                Score  \n",
              "ping_class             \n",
              "0           42.171114  \n",
              "1           45.721921  \n",
              "2           39.521472  "
            ]
          },
          "execution_count": 76,
          "metadata": {},
          "output_type": "execute_result"
        }
      ],
      "source": [
        "df_cs.groupby('ping_class').mean()"
      ]
    },
    {
      "cell_type": "code",
      "execution_count": 77,
      "metadata": {
        "id": "60pcCAk84TpR"
      },
      "outputs": [],
      "source": [
        "x = df_cs.drop(columns=['Ping', 'Player Name', 'Score'])\n",
        "y = df_cs['Score']"
      ]
    },
    {
      "cell_type": "code",
      "execution_count": 78,
      "metadata": {
        "id": "xxjpkCpB4VHZ"
      },
      "outputs": [],
      "source": [
        "x_train, x_test, y_train, y_test = train_test_split(x, y, test_size = 0.2, random_state = 42)"
      ]
    },
    {
      "cell_type": "code",
      "execution_count": 79,
      "metadata": {
        "id": "rdKi8fYr4WQz"
      },
      "outputs": [],
      "source": [
        "lr = LinearRegression()"
      ]
    },
    {
      "cell_type": "code",
      "execution_count": 80,
      "metadata": {
        "colab": {
          "base_uri": "https://localhost:8080/"
        },
        "id": "rcrxqNtS4Xn4",
        "outputId": "82026d29-3cb9-4354-9749-ba04736a6213"
      },
      "outputs": [
        {
          "data": {
            "text/plain": [
              "LinearRegression()"
            ]
          },
          "execution_count": 80,
          "metadata": {},
          "output_type": "execute_result"
        }
      ],
      "source": [
        "lr.fit(x_train, y_train)"
      ]
    },
    {
      "cell_type": "code",
      "execution_count": 81,
      "metadata": {
        "id": "Yfh--zay4ZAh"
      },
      "outputs": [],
      "source": [
        "y_predicoes = lr.predict(x_test) "
      ]
    },
    {
      "cell_type": "code",
      "execution_count": 82,
      "metadata": {
        "colab": {
          "base_uri": "https://localhost:8080/"
        },
        "id": "eLXe9ui74aTZ",
        "outputId": "31d56ac7-ff9e-49aa-d03e-a9ff879225c7"
      },
      "outputs": [
        {
          "name": "stdout",
          "output_type": "stream",
          "text": [
            "R2:  0.946102649634941\n"
          ]
        }
      ],
      "source": [
        "y_predicoes = lr.predict(x_test) \n",
        "R2 = r2_score(y_true = y_test,      \n",
        "              y_pred = y_predicoes) \n",
        "print('R2: ', R2) "
      ]
    },
    {
      "cell_type": "markdown",
      "metadata": {
        "id": "LFrrzuIs5Ei_"
      },
      "source": [
        "CONCLUSÃO: De acordo com nosso primeiro teste, não obtivemos resultados referentes a influência no ping no nível dos jogadores, porém no segundo, provamos que o ping prejudica o desempenho dos jogadores."
      ]
    },
    {
      "cell_type": "markdown",
      "metadata": {
        "id": "L8A1kDxpgeC2"
      },
      "source": [
        "(c) Baseado nesse agrupamento, crie um Modelo de Aprendizado de Máquina para predizer o grupo de ping do jogador usando seus atributos descritivos. Lembre-se de não usar o coluna de Ping para isso. <font color='red'>(2 pontos)</font>\n",
        "\n",
        "Avalie as métricas de desempenho. Antes de tentar melhorar o modelo, compare-o ao resultado do item (b).\n",
        "\n",
        "Os modelos se corroboram? O que você conclui da hipótese de que o ping ruim causa mais mortes no jogo? E sobre a influência do ping no jogo como um todo, o que você pode concluir? **Faça boxplots e calcule estatísticas** que possam melhorar suas interpretação sobre o problema. "
      ]
    },
    {
      "cell_type": "code",
      "execution_count": 83,
      "metadata": {
        "id": "EMblnqGHgeC2"
      },
      "outputs": [],
      "source": [
        "df_cs = data_cs"
      ]
    },
    {
      "cell_type": "code",
      "execution_count": 84,
      "metadata": {
        "id": "Eu9s6EBw4mK6"
      },
      "outputs": [],
      "source": [
        "def mapear_ping(x):\n",
        "    if x in range(0,30): return('otimo')\n",
        "    elif x in range(30,200): return('aceitavel')\n",
        "    else: return('ruim')"
      ]
    },
    {
      "cell_type": "code",
      "execution_count": 85,
      "metadata": {
        "id": "yyfncH9j4nFb"
      },
      "outputs": [],
      "source": [
        "# Lembre-se de arrumar o nome do dataframe para ser igual ao nome do seu dataframe\n",
        "df_cs['ping_class'] = df_cs['Ping'].apply(mapear_ping) "
      ]
    },
    {
      "cell_type": "code",
      "execution_count": 86,
      "metadata": {
        "colab": {
          "base_uri": "https://localhost:8080/",
          "height": 175
        },
        "id": "SVany-f_4ogC",
        "outputId": "f26cf876-add2-4881-8d29-4cb12b3cb93b"
      },
      "outputs": [
        {
          "data": {
            "text/html": [
              "\n",
              "  <div id=\"df-5cc8b69b-3e9e-4555-8121-f34b82295971\">\n",
              "    <div class=\"colab-df-container\">\n",
              "      <div>\n",
              "<style scoped>\n",
              "    .dataframe tbody tr th:only-of-type {\n",
              "        vertical-align: middle;\n",
              "    }\n",
              "\n",
              "    .dataframe tbody tr th {\n",
              "        vertical-align: top;\n",
              "    }\n",
              "\n",
              "    .dataframe thead th {\n",
              "        text-align: right;\n",
              "    }\n",
              "</style>\n",
              "<table border=\"1\" class=\"dataframe\">\n",
              "  <thead>\n",
              "    <tr style=\"text-align: right;\">\n",
              "      <th></th>\n",
              "      <th>Ping</th>\n",
              "      <th>Kills</th>\n",
              "      <th>Assists</th>\n",
              "      <th>Deaths</th>\n",
              "      <th>MVP</th>\n",
              "      <th>HSP</th>\n",
              "      <th>Score</th>\n",
              "    </tr>\n",
              "    <tr>\n",
              "      <th>ping_class</th>\n",
              "      <th></th>\n",
              "      <th></th>\n",
              "      <th></th>\n",
              "      <th></th>\n",
              "      <th></th>\n",
              "      <th></th>\n",
              "      <th></th>\n",
              "    </tr>\n",
              "  </thead>\n",
              "  <tbody>\n",
              "    <tr>\n",
              "      <th>aceitavel</th>\n",
              "      <td>59.636084</td>\n",
              "      <td>18.262637</td>\n",
              "      <td>3.795452</td>\n",
              "      <td>18.292436</td>\n",
              "      <td>2.381530</td>\n",
              "      <td>33.776149</td>\n",
              "      <td>45.721921</td>\n",
              "    </tr>\n",
              "    <tr>\n",
              "      <th>otimo</th>\n",
              "      <td>14.659550</td>\n",
              "      <td>16.833252</td>\n",
              "      <td>3.595180</td>\n",
              "      <td>17.291768</td>\n",
              "      <td>2.251334</td>\n",
              "      <td>34.354359</td>\n",
              "      <td>42.171114</td>\n",
              "    </tr>\n",
              "    <tr>\n",
              "      <th>ruim</th>\n",
              "      <td>317.699387</td>\n",
              "      <td>15.294479</td>\n",
              "      <td>3.441718</td>\n",
              "      <td>19.294479</td>\n",
              "      <td>1.889571</td>\n",
              "      <td>36.269939</td>\n",
              "      <td>39.521472</td>\n",
              "    </tr>\n",
              "  </tbody>\n",
              "</table>\n",
              "</div>\n",
              "      <button class=\"colab-df-convert\" onclick=\"convertToInteractive('df-5cc8b69b-3e9e-4555-8121-f34b82295971')\"\n",
              "              title=\"Convert this dataframe to an interactive table.\"\n",
              "              style=\"display:none;\">\n",
              "        \n",
              "  <svg xmlns=\"http://www.w3.org/2000/svg\" height=\"24px\"viewBox=\"0 0 24 24\"\n",
              "       width=\"24px\">\n",
              "    <path d=\"M0 0h24v24H0V0z\" fill=\"none\"/>\n",
              "    <path d=\"M18.56 5.44l.94 2.06.94-2.06 2.06-.94-2.06-.94-.94-2.06-.94 2.06-2.06.94zm-11 1L8.5 8.5l.94-2.06 2.06-.94-2.06-.94L8.5 2.5l-.94 2.06-2.06.94zm10 10l.94 2.06.94-2.06 2.06-.94-2.06-.94-.94-2.06-.94 2.06-2.06.94z\"/><path d=\"M17.41 7.96l-1.37-1.37c-.4-.4-.92-.59-1.43-.59-.52 0-1.04.2-1.43.59L10.3 9.45l-7.72 7.72c-.78.78-.78 2.05 0 2.83L4 21.41c.39.39.9.59 1.41.59.51 0 1.02-.2 1.41-.59l7.78-7.78 2.81-2.81c.8-.78.8-2.07 0-2.86zM5.41 20L4 18.59l7.72-7.72 1.47 1.35L5.41 20z\"/>\n",
              "  </svg>\n",
              "      </button>\n",
              "      \n",
              "  <style>\n",
              "    .colab-df-container {\n",
              "      display:flex;\n",
              "      flex-wrap:wrap;\n",
              "      gap: 12px;\n",
              "    }\n",
              "\n",
              "    .colab-df-convert {\n",
              "      background-color: #E8F0FE;\n",
              "      border: none;\n",
              "      border-radius: 50%;\n",
              "      cursor: pointer;\n",
              "      display: none;\n",
              "      fill: #1967D2;\n",
              "      height: 32px;\n",
              "      padding: 0 0 0 0;\n",
              "      width: 32px;\n",
              "    }\n",
              "\n",
              "    .colab-df-convert:hover {\n",
              "      background-color: #E2EBFA;\n",
              "      box-shadow: 0px 1px 2px rgba(60, 64, 67, 0.3), 0px 1px 3px 1px rgba(60, 64, 67, 0.15);\n",
              "      fill: #174EA6;\n",
              "    }\n",
              "\n",
              "    [theme=dark] .colab-df-convert {\n",
              "      background-color: #3B4455;\n",
              "      fill: #D2E3FC;\n",
              "    }\n",
              "\n",
              "    [theme=dark] .colab-df-convert:hover {\n",
              "      background-color: #434B5C;\n",
              "      box-shadow: 0px 1px 3px 1px rgba(0, 0, 0, 0.15);\n",
              "      filter: drop-shadow(0px 1px 2px rgba(0, 0, 0, 0.3));\n",
              "      fill: #FFFFFF;\n",
              "    }\n",
              "  </style>\n",
              "\n",
              "      <script>\n",
              "        const buttonEl =\n",
              "          document.querySelector('#df-5cc8b69b-3e9e-4555-8121-f34b82295971 button.colab-df-convert');\n",
              "        buttonEl.style.display =\n",
              "          google.colab.kernel.accessAllowed ? 'block' : 'none';\n",
              "\n",
              "        async function convertToInteractive(key) {\n",
              "          const element = document.querySelector('#df-5cc8b69b-3e9e-4555-8121-f34b82295971');\n",
              "          const dataTable =\n",
              "            await google.colab.kernel.invokeFunction('convertToInteractive',\n",
              "                                                     [key], {});\n",
              "          if (!dataTable) return;\n",
              "\n",
              "          const docLinkHtml = 'Like what you see? Visit the ' +\n",
              "            '<a target=\"_blank\" href=https://colab.research.google.com/notebooks/data_table.ipynb>data table notebook</a>'\n",
              "            + ' to learn more about interactive tables.';\n",
              "          element.innerHTML = '';\n",
              "          dataTable['output_type'] = 'display_data';\n",
              "          await google.colab.output.renderOutput(dataTable, element);\n",
              "          const docLink = document.createElement('div');\n",
              "          docLink.innerHTML = docLinkHtml;\n",
              "          element.appendChild(docLink);\n",
              "        }\n",
              "      </script>\n",
              "    </div>\n",
              "  </div>\n",
              "  "
            ],
            "text/plain": [
              "                  Ping      Kills   Assists     Deaths       MVP        HSP  \\\n",
              "ping_class                                                                    \n",
              "aceitavel    59.636084  18.262637  3.795452  18.292436  2.381530  33.776149   \n",
              "otimo        14.659550  16.833252  3.595180  17.291768  2.251334  34.354359   \n",
              "ruim        317.699387  15.294479  3.441718  19.294479  1.889571  36.269939   \n",
              "\n",
              "                Score  \n",
              "ping_class             \n",
              "aceitavel   45.721921  \n",
              "otimo       42.171114  \n",
              "ruim        39.521472  "
            ]
          },
          "execution_count": 86,
          "metadata": {},
          "output_type": "execute_result"
        }
      ],
      "source": [
        "df_cs.groupby('ping_class').mean()"
      ]
    },
    {
      "cell_type": "code",
      "execution_count": 87,
      "metadata": {
        "id": "AEwoBstt4p5V"
      },
      "outputs": [],
      "source": [
        "x = df_cs.drop(columns=['Ping', 'Player Name', 'ping_class'])\n",
        "y = df_cs['ping_class']"
      ]
    },
    {
      "cell_type": "code",
      "execution_count": 88,
      "metadata": {
        "id": "gk-JXlPs4rC8"
      },
      "outputs": [],
      "source": [
        "x_train, x_test, y_train, y_test = train_test_split(x, y, test_size = 0.2, random_state = 42)"
      ]
    },
    {
      "cell_type": "code",
      "execution_count": 89,
      "metadata": {
        "id": "v1T7xhbG4tpV"
      },
      "outputs": [],
      "source": [
        "from sklearn.discriminant_analysis import LinearDiscriminantAnalysis"
      ]
    },
    {
      "cell_type": "code",
      "execution_count": 90,
      "metadata": {
        "id": "5a2ovol24u9s"
      },
      "outputs": [],
      "source": [
        "lda = LinearDiscriminantAnalysis()"
      ]
    },
    {
      "cell_type": "code",
      "execution_count": 91,
      "metadata": {
        "colab": {
          "base_uri": "https://localhost:8080/"
        },
        "id": "_usiBtnY4wwc",
        "outputId": "b966c0fa-bf49-493c-df50-5ed27bcfc219"
      },
      "outputs": [
        {
          "data": {
            "text/plain": [
              "LinearDiscriminantAnalysis()"
            ]
          },
          "execution_count": 91,
          "metadata": {},
          "output_type": "execute_result"
        }
      ],
      "source": [
        "lda.fit(x_train, y_train)"
      ]
    },
    {
      "cell_type": "code",
      "execution_count": 92,
      "metadata": {
        "id": "J8KXKd9C4xte"
      },
      "outputs": [],
      "source": [
        "y_predicoes = lda.predict(x_test)"
      ]
    },
    {
      "cell_type": "code",
      "execution_count": 93,
      "metadata": {
        "id": "OBikDor74yt9"
      },
      "outputs": [],
      "source": [
        "from sklearn.metrics import confusion_matrix, ConfusionMatrixDisplay, plot_confusion_matrix"
      ]
    },
    {
      "cell_type": "code",
      "execution_count": 94,
      "metadata": {
        "id": "6TQflXGU40rc"
      },
      "outputs": [],
      "source": [
        "matriz_confusao = confusion_matrix(y_true = y_test,\n",
        "                                   y_pred = y_predicoes,\n",
        "                                   labels=['otimo', 'aceitavel', 'ruim'])"
      ]
    },
    {
      "cell_type": "code",
      "execution_count": 95,
      "metadata": {
        "colab": {
          "base_uri": "https://localhost:8080/",
          "height": 314
        },
        "id": "bmrjFFfi41nU",
        "outputId": "f5368135-92ca-46b5-e222-088efacdf5c9"
      },
      "outputs": [
        {
          "data": {
            "text/plain": [
              "<sklearn.metrics._plot.confusion_matrix.ConfusionMatrixDisplay at 0x7f7b79089c90>"
            ]
          },
          "execution_count": 95,
          "metadata": {},
          "output_type": "execute_result"
        },
        {
          "data": {
            "text/plain": [
              "<Figure size 1080x360 with 0 Axes>"
            ]
          },
          "metadata": {},
          "output_type": "display_data"
        },
        {
          "data": {
            "image/png": "[encoded data removed]",
            "text/plain": [
              "<Figure size 432x288 with 2 Axes>"
            ]
          },
          "metadata": {
            "needs_background": "light"
          },
          "output_type": "display_data"
        }
      ],
      "source": [
        "figure = plt.figure(figsize=(15, 5))\n",
        "disp = ConfusionMatrixDisplay(confusion_matrix = matriz_confusao, display_labels=['otimo', 'aceitavel', 'ruim'])\n",
        "disp.plot(values_format='d')"
      ]
    }
  ],
  "metadata": {
    "colab": {
      "collapsed_sections": [],
      "provenance": []
    },
    "kernelspec": {
      "display_name": "Python 3.10.5 64-bit",
      "language": "python",
      "name": "python3"
    },
    "language_info": {
      "codemirror_mode": {
        "name": "ipython",
        "version": 3
      },
      "file_extension": ".py",
      "mimetype": "text/x-python",
      "name": "python",
      "nbconvert_exporter": "python",
      "pygments_lexer": "ipython3",
      "version": "3.10.5"
    },
    "vscode": {
      "interpreter": {
        "hash": "369f2c481f4da34e4445cda3fffd2e751bd1c4d706f27375911949ba6bb62e1c"
      }
    }
  },
  "nbformat": 4,
  "nbformat_minor": 0
}
